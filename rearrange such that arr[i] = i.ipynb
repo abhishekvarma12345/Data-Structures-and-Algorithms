{
 "cells": [
  {
   "cell_type": "code",
   "execution_count": 15,
   "metadata": {},
   "outputs": [
    {
     "data": {
      "text/plain": [
       "[0, -1, 2, -1]"
      ]
     },
     "execution_count": 15,
     "metadata": {},
     "output_type": "execute_result"
    }
   ],
   "source": [
    "arr = [0,-1,-1,2]\n",
    "n = len(arr)\n",
    "def Rearrange1(arr,n): \n",
    "    for i in range(n):\n",
    "        for j in range(n):\n",
    "            if i == arr[j]:\n",
    "                arr[i],arr[j] = arr[j],arr[i]\n",
    "    return arr\n",
    "Rearrange1(arr,n)"
   ]
  },
  {
   "cell_type": "code",
   "execution_count": 14,
   "metadata": {},
   "outputs": [
    {
     "data": {
      "text/plain": [
       "[0, -1, 2, -1]"
      ]
     },
     "execution_count": 14,
     "metadata": {},
     "output_type": "execute_result"
    }
   ],
   "source": [
    "def Rearrange2(arr,n): \n",
    "    #Complete the function\n",
    "    arr1 = [-1 for i in range(n)]\n",
    "    for i in arr:\n",
    "        if i != -1:\n",
    "            arr1[i] = i\n",
    "    for i in range(n):\n",
    "        if arr1[i] != -1:\n",
    "            arr[i] = i\n",
    "        else:\n",
    "            arr[i] = -1  \n",
    "    return arr\n",
    "Rearrange2(arr,n)"
   ]
  },
  {
   "cell_type": "code",
   "execution_count": 13,
   "metadata": {},
   "outputs": [
    {
     "data": {
      "text/plain": [
       "[0, -1, 2, -1]"
      ]
     },
     "execution_count": 13,
     "metadata": {},
     "output_type": "execute_result"
    }
   ],
   "source": [
    "def Rearrange3(arr,n):\n",
    "    for i in range(n):\n",
    "        if arr[i] != -1 and arr[i] != i:\n",
    "            arr[i],arr[arr[i]] = arr[arr[i]],arr[i]\n",
    "    return arr\n",
    "Rearrange3(arr,n)"
   ]
  },
  {
   "cell_type": "markdown",
   "metadata": {},
   "source": [
    "### Complexity Analysis\n",
    "\n",
    "Rearrange1\n",
    "\n",
    "Time : O($n^2$) (loop in a loop)\n",
    "Space : O(1)\n",
    "\n",
    "Rearrange2\n",
    "\n",
    "Time : O($n$) (two seperate loops)\n",
    "Space : O(n) (extra array)\n",
    "\n",
    "Rearrange3\n",
    "\n",
    "Time : O($n$)\n",
    "Space : O(1)\n",
    "\n"
   ]
  },
  {
   "cell_type": "code",
   "execution_count": null,
   "metadata": {},
   "outputs": [],
   "source": []
  }
 ],
 "metadata": {
  "kernelspec": {
   "display_name": "Python 3",
   "language": "python",
   "name": "python3"
  },
  "language_info": {
   "codemirror_mode": {
    "name": "ipython",
    "version": 3
   },
   "file_extension": ".py",
   "mimetype": "text/x-python",
   "name": "python",
   "nbconvert_exporter": "python",
   "pygments_lexer": "ipython3",
   "version": "3.7.4"
  }
 },
 "nbformat": 4,
 "nbformat_minor": 2
}

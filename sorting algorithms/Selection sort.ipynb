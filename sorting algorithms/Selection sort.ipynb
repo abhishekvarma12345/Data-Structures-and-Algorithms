{
 "cells": [
  {
   "cell_type": "code",
   "execution_count": 2,
   "metadata": {},
   "outputs": [
    {
     "data": {
      "text/plain": [
       "[1, 2, 3, 4, 5, 6, 7]"
      ]
     },
     "execution_count": 2,
     "metadata": {},
     "output_type": "execute_result"
    }
   ],
   "source": [
    "import sys\n",
    "def min_index(arr,start):\n",
    "    mini = sys.maxsize\n",
    "    for i in range(len(arr)):\n",
    "        if arr[i] < mini:\n",
    "            mini = arr[i]\n",
    "    for i in range(len(arr)):\n",
    "        if mini == arr[i]:\n",
    "            return (start+i)\n",
    "        \n",
    "        \n",
    "def Selection_sort(arr,n):\n",
    "    for i in range(n):\n",
    "        min_ele_index = min_index(arr[i:],i)\n",
    "        arr[i],arr[min_ele_index] = arr[min_ele_index],arr[i]\n",
    "    return arr\n",
    "Selection_sort([7,6,5,4,3,2,1],7)\n",
    "        \n",
    "        \n",
    "        "
   ]
  },
  {
   "cell_type": "markdown",
   "metadata": {},
   "source": [
    "### Complexity Analysis"
   ]
  },
  {
   "cell_type": "markdown",
   "metadata": {},
   "source": [
    "Time : O(n$^2$)\n",
    "\n",
    "Space : O(1)"
   ]
  },
  {
   "cell_type": "code",
   "execution_count": null,
   "metadata": {},
   "outputs": [],
   "source": []
  }
 ],
 "metadata": {
  "kernelspec": {
   "display_name": "Python 3",
   "language": "python",
   "name": "python3"
  },
  "language_info": {
   "codemirror_mode": {
    "name": "ipython",
    "version": 3
   },
   "file_extension": ".py",
   "mimetype": "text/x-python",
   "name": "python",
   "nbconvert_exporter": "python",
   "pygments_lexer": "ipython3",
   "version": "3.7.4"
  }
 },
 "nbformat": 4,
 "nbformat_minor": 2
}

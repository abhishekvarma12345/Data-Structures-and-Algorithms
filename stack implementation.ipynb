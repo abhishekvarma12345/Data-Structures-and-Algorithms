{
 "cells": [
  {
   "cell_type": "code",
   "execution_count": 7,
   "metadata": {},
   "outputs": [],
   "source": [
    "class stack:\n",
    "    def __init__(self):\n",
    "        self.stack = []\n",
    "        \n",
    "    def isEmpty(self):\n",
    "        if len(self.stack) == 0:\n",
    "            return True\n",
    "        else:\n",
    "            return False\n",
    "        \n",
    "    def size(self):\n",
    "        return len(self.stack)\n",
    "    \n",
    "    def push(self,element):\n",
    "        self.stack.append(element)\n",
    "    \n",
    "    def pop(self):\n",
    "        if self.isEmpty():\n",
    "            return \"stack empty exception\"\n",
    "        else:\n",
    "            return self.stack.pop()\n",
    "        \n",
    "    def top(self):\n",
    "        if self.isEmpty():\n",
    "            return \"stack empty exception\"\n",
    "        else:\n",
    "            return self.stack[-1]\n",
    "    def print(self):\n",
    "        if self.stack == []:\n",
    "            print(\"Empty s\")\n",
    "        for i in self.stack:\n",
    "            print(i,end=\"<--\")\n",
    "        print(\"\")\n",
    "        \n",
    "        "
   ]
  },
  {
   "cell_type": "code",
   "execution_count": 10,
   "metadata": {},
   "outputs": [
    {
     "name": "stdout",
     "output_type": "stream",
     "text": [
      "3\n",
      "1<--2<--3<--\n",
      "3\n",
      "1<--2<--\n",
      "2\n",
      "1<--\n",
      "1\n",
      "\n",
      "stack empty exception\n"
     ]
    }
   ],
   "source": [
    "s1 = stack()\n",
    "s1.push(1)\n",
    "s1.push(2)\n",
    "s1.push(3)\n",
    "print(s1.top())\n",
    "s1.print()\n",
    "print(s1.pop())\n",
    "s1.print()\n",
    "print(s1.pop())\n",
    "s1.print()\n",
    "print(s1.pop())\n",
    "s1.print()\n",
    "print(s1.pop())"
   ]
  },
  {
   "cell_type": "code",
   "execution_count": null,
   "metadata": {},
   "outputs": [],
   "source": []
  }
 ],
 "metadata": {
  "kernelspec": {
   "display_name": "Python 3",
   "language": "python",
   "name": "python3"
  },
  "language_info": {
   "codemirror_mode": {
    "name": "ipython",
    "version": 3
   },
   "file_extension": ".py",
   "mimetype": "text/x-python",
   "name": "python",
   "nbconvert_exporter": "python",
   "pygments_lexer": "ipython3",
   "version": "3.7.4"
  }
 },
 "nbformat": 4,
 "nbformat_minor": 2
}
